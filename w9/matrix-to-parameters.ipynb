{
 "cells": [
  {
   "cell_type": "code",
   "execution_count": 1,
   "id": "c4f4a050",
   "metadata": {},
   "outputs": [],
   "source": [
    "from pymatgen.core import Structure, Molecule, Lattice\n",
    "from pymatgen.io.xyz import XYZ\n",
    "#from manage_crystal.utils import parse_and_write"
   ]
  },
  {
   "cell_type": "code",
   "execution_count": 2,
   "id": "05673789",
   "metadata": {},
   "outputs": [],
   "source": [
    "folder = \"/home/beatriz/Documents/Projects/COFs/aiida-workflow/curated-cifs/bs_tests/bs-t1/13030N2\"\n",
    "xyz = folder + \"/aiida.coords.xyz\""
   ]
  },
  {
   "cell_type": "code",
   "execution_count": 3,
   "id": "02c62139",
   "metadata": {},
   "outputs": [
    {
     "name": "stdout",
     "output_type": "stream",
     "text": [
      "(3.5667205577765, 14.540279401336, 14.540416631964693) (60.000748216680236, 89.99999985672132, 89.99999990156181)\n"
     ]
    }
   ],
   "source": [
    "xyz = Molecule.from_file(xyz) #this is my xyz file that I want to convert to cif\n",
    "lattice = Lattice([[3.5667205577765, 0, 0], [2.4981223849047e-08, 14.540279401336, 0], [3.6360999316701e-08, 7.2700438735572, 12.592465124338]]) #creating lattice from ABC matrix\n",
    "abc = lattice.abc #getting cell parameters\n",
    "angles = lattice.angles\n",
    "print(abc,angles) #now that I know abc and angles I can copy them as 'CELL: a b c alpha beta gamma' to the xyz file and use 'manage_crystal file.xyz -o cif' to convert"
   ]
  },
  {
   "cell_type": "code",
   "execution_count": null,
   "id": "f892b86b",
   "metadata": {},
   "outputs": [],
   "source": [
    "#parse_and_write(xyz_new, cif)"
   ]
  }
 ],
 "metadata": {
  "kernelspec": {
   "display_name": "Python 3 (ipykernel)",
   "language": "python",
   "name": "python3"
  },
  "language_info": {
   "codemirror_mode": {
    "name": "ipython",
    "version": 3
   },
   "file_extension": ".py",
   "mimetype": "text/x-python",
   "name": "python",
   "nbconvert_exporter": "python",
   "pygments_lexer": "ipython3",
   "version": "3.9.7"
  }
 },
 "nbformat": 4,
 "nbformat_minor": 5
}
