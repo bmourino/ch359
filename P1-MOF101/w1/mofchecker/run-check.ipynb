{
 "cells": [
  {
   "cell_type": "code",
   "execution_count": 40,
   "id": "f9bcc93d",
   "metadata": {},
   "outputs": [],
   "source": [
    "import os, glob\n",
    "from ase.io import read\n",
    "from mofchecker import MOFChecker\n",
    "from oximachinerunner import OximachineRunner\n",
    "from moffragmentor import MOF"
   ]
  },
  {
   "cell_type": "code",
   "execution_count": 41,
   "id": "26ad6f37",
   "metadata": {},
   "outputs": [],
   "source": [
    "THIS_DIR = os.path.dirname(os.path.abspath(\"__file__\"))\n",
    "s_folder = THIS_DIR + '/structures/'\n",
    "all_structures = glob.glob(os.path.join(s_folder, \"*.cif\"))"
   ]
  },
  {
   "cell_type": "code",
   "execution_count": 42,
   "id": "03f6befa",
   "metadata": {},
   "outputs": [],
   "source": [
    "s = all_structures[0]\n",
    "mofchecker = MOFChecker.from_cif(s)"
   ]
  },
  {
   "cell_type": "code",
   "execution_count": 43,
   "id": "169f5e22",
   "metadata": {},
   "outputs": [
    {
     "name": "stderr",
     "output_type": "stream",
     "text": [
      "/home/beatriz/.local/lib/python3.8/site-packages/mofchecker/checks/zeopp.py:101: UserWarning: Did not find the zeo++ network binary in the path.             Can not run pore analysis.\n",
      "  warnings.warn(NO_ZEOPP_WARNING)\n"
     ]
    },
    {
     "data": {
      "text/plain": [
       "OrderedDict([('name', 'structure5'),\n",
       "             ('graph_hash', '44f0d7d9faabb680850e488bca8ad90b'),\n",
       "             ('scaffold_hash', 'd16769dc7f2afbaca750fd1a31c60cde'),\n",
       "             ('symmetry_hash',\n",
       "              'mQsYH4KweDAxLsoyLsrGvdrXVwovgpMv/LcRL4i4fAM=160'),\n",
       "             ('formula', 'Cu48 H97 C288 O192'),\n",
       "             ('path',\n",
       "              '/home/beatriz/Documents/ta/ch359/2023-1/ch359/w1/mofchecker/structures/structure5.cif'),\n",
       "             ('density', 0.8791872979880029),\n",
       "             ('has_carbon', True),\n",
       "             ('has_hydrogen', True),\n",
       "             ('has_atomic_overlaps', True),\n",
       "             ('has_overcoordinated_c', False),\n",
       "             ('has_overcoordinated_n', False),\n",
       "             ('has_overcoordinated_h', False),\n",
       "             ('has_undercoordinated_c', False),\n",
       "             ('has_undercoordinated_n', False),\n",
       "             ('has_undercoordinated_rare_earth', False),\n",
       "             ('has_metal', True),\n",
       "             ('has_lone_molecule', True),\n",
       "             ('has_high_charges', False),\n",
       "             ('is_porous', None),\n",
       "             ('has_suspicicious_terminal_oxo', False)])"
      ]
     },
     "execution_count": 43,
     "metadata": {},
     "output_type": "execute_result"
    }
   ],
   "source": [
    "mofchecker.get_mof_descriptors()"
   ]
  },
  {
   "cell_type": "code",
   "execution_count": 44,
   "id": "8a9a64e3",
   "metadata": {},
   "outputs": [
    {
     "data": {
      "text/plain": [
       "[]"
      ]
     },
     "execution_count": 44,
     "metadata": {},
     "output_type": "execute_result"
    }
   ],
   "source": [
    "mofchecker.undercoordinated_n_candidate_positions"
   ]
  },
  {
   "cell_type": "code",
   "execution_count": 45,
   "id": "496254c6",
   "metadata": {},
   "outputs": [],
   "source": [
    "runner = OximachineRunner()"
   ]
  },
  {
   "cell_type": "code",
   "execution_count": 46,
   "id": "5330b8ed",
   "metadata": {},
   "outputs": [
    {
     "name": "stdout",
     "output_type": "stream",
     "text": [
      "/home/beatriz/miniconda3/envs/test_ta/lib/python3.8/site-packages/oximachinerunner/assets/all_202000830/classifier.joblib does not exist or md5 is wrong.\n",
      "Download file from https://zenodo.org/record/4361094/files/all_2020830_classifier.joblib?download=1\n",
      "100.0% of 527.44M\n",
      "Download /home/beatriz/miniconda3/envs/test_ta/lib/python3.8/site-packages/oximachinerunner/assets/all_202000830/classifier.joblib file successfully.\n",
      "/home/beatriz/miniconda3/envs/test_ta/lib/python3.8/site-packages/oximachinerunner/assets/all_202000830/scaler.joblib does not exist or md5 is wrong.\n",
      "Download file from https://zenodo.org/record/4361094/files/all_2020830_scaler.joblib?download=1\n",
      "100.0% of 0.00M\n",
      "Download /home/beatriz/miniconda3/envs/test_ta/lib/python3.8/site-packages/oximachinerunner/assets/all_202000830/scaler.joblib file successfully.\n"
     ]
    },
    {
     "data": {
      "text/plain": [
       "OrderedDict([('metal_indices',\n",
       "              [0,\n",
       "               1,\n",
       "               2,\n",
       "               3,\n",
       "               4,\n",
       "               5,\n",
       "               6,\n",
       "               7,\n",
       "               8,\n",
       "               9,\n",
       "               10,\n",
       "               11,\n",
       "               12,\n",
       "               13,\n",
       "               14,\n",
       "               15,\n",
       "               16,\n",
       "               17,\n",
       "               18,\n",
       "               19,\n",
       "               20,\n",
       "               21,\n",
       "               22,\n",
       "               23,\n",
       "               24,\n",
       "               25,\n",
       "               26,\n",
       "               27,\n",
       "               28,\n",
       "               29,\n",
       "               30,\n",
       "               31,\n",
       "               32,\n",
       "               33,\n",
       "               34,\n",
       "               35,\n",
       "               36,\n",
       "               37,\n",
       "               38,\n",
       "               39,\n",
       "               40,\n",
       "               41,\n",
       "               42,\n",
       "               43,\n",
       "               44,\n",
       "               45,\n",
       "               46,\n",
       "               47]),\n",
       "             ('metal_symbols',\n",
       "              ['Cu',\n",
       "               'Cu',\n",
       "               'Cu',\n",
       "               'Cu',\n",
       "               'Cu',\n",
       "               'Cu',\n",
       "               'Cu',\n",
       "               'Cu',\n",
       "               'Cu',\n",
       "               'Cu',\n",
       "               'Cu',\n",
       "               'Cu',\n",
       "               'Cu',\n",
       "               'Cu',\n",
       "               'Cu',\n",
       "               'Cu',\n",
       "               'Cu',\n",
       "               'Cu',\n",
       "               'Cu',\n",
       "               'Cu',\n",
       "               'Cu',\n",
       "               'Cu',\n",
       "               'Cu',\n",
       "               'Cu',\n",
       "               'Cu',\n",
       "               'Cu',\n",
       "               'Cu',\n",
       "               'Cu',\n",
       "               'Cu',\n",
       "               'Cu',\n",
       "               'Cu',\n",
       "               'Cu',\n",
       "               'Cu',\n",
       "               'Cu',\n",
       "               'Cu',\n",
       "               'Cu',\n",
       "               'Cu',\n",
       "               'Cu',\n",
       "               'Cu',\n",
       "               'Cu',\n",
       "               'Cu',\n",
       "               'Cu',\n",
       "               'Cu',\n",
       "               'Cu',\n",
       "               'Cu',\n",
       "               'Cu',\n",
       "               'Cu',\n",
       "               'Cu']),\n",
       "             ('prediction',\n",
       "              [2,\n",
       "               2,\n",
       "               2,\n",
       "               2,\n",
       "               2,\n",
       "               2,\n",
       "               2,\n",
       "               2,\n",
       "               2,\n",
       "               2,\n",
       "               2,\n",
       "               2,\n",
       "               2,\n",
       "               2,\n",
       "               2,\n",
       "               2,\n",
       "               2,\n",
       "               2,\n",
       "               2,\n",
       "               2,\n",
       "               2,\n",
       "               2,\n",
       "               2,\n",
       "               2,\n",
       "               2,\n",
       "               2,\n",
       "               2,\n",
       "               2,\n",
       "               2,\n",
       "               2,\n",
       "               2,\n",
       "               2,\n",
       "               2,\n",
       "               2,\n",
       "               2,\n",
       "               2,\n",
       "               2,\n",
       "               2,\n",
       "               2,\n",
       "               2,\n",
       "               2,\n",
       "               2,\n",
       "               2,\n",
       "               2,\n",
       "               2,\n",
       "               2,\n",
       "               2,\n",
       "               2]),\n",
       "             ('max_probas',\n",
       "              [0.9519034962066645,\n",
       "               0.9519034962066645,\n",
       "               0.9519034962066645,\n",
       "               0.9519034962066645,\n",
       "               0.9519034962066645,\n",
       "               0.9519034962066645,\n",
       "               0.9519034962066645,\n",
       "               0.9519034962066645,\n",
       "               0.9519034962066645,\n",
       "               0.9519034962066645,\n",
       "               0.9519034962066645,\n",
       "               0.9519034962066645,\n",
       "               0.9519034962066645,\n",
       "               0.9519034962066645,\n",
       "               0.9519034962066645,\n",
       "               0.9519034962066645,\n",
       "               0.9519034962066645,\n",
       "               0.9519034962066645,\n",
       "               0.9519034962066645,\n",
       "               0.9519034962066645,\n",
       "               0.9519034962066645,\n",
       "               0.9519034962066645,\n",
       "               0.9519034962066645,\n",
       "               0.9519034962066645,\n",
       "               0.9519034962066645,\n",
       "               0.9519034962066645,\n",
       "               0.9519034962066645,\n",
       "               0.9519034962066645,\n",
       "               0.9519034962066645,\n",
       "               0.9519034962066645,\n",
       "               0.9519034962066645,\n",
       "               0.9519034962066645,\n",
       "               0.9519034962066645,\n",
       "               0.9519034962066645,\n",
       "               0.9519034962066645,\n",
       "               0.9519034962066645,\n",
       "               0.9519034962066645,\n",
       "               0.9519034962066645,\n",
       "               0.9519034962066645,\n",
       "               0.9519034962066645,\n",
       "               0.9519034962066645,\n",
       "               0.9519034962066645,\n",
       "               0.9519034962066645,\n",
       "               0.9519034962066645,\n",
       "               0.9519034962066645,\n",
       "               0.9519034962066645,\n",
       "               0.9519034962066645,\n",
       "               0.9519034962066645]),\n",
       "             ('base_predictions',\n",
       "              [[2, 2, 2, 2],\n",
       "               [2, 2, 2, 2],\n",
       "               [2, 2, 2, 2],\n",
       "               [2, 2, 2, 2],\n",
       "               [2, 2, 2, 2],\n",
       "               [2, 2, 2, 2],\n",
       "               [2, 2, 2, 2],\n",
       "               [2, 2, 2, 2],\n",
       "               [2, 2, 2, 2],\n",
       "               [2, 2, 2, 2],\n",
       "               [2, 2, 2, 2],\n",
       "               [2, 2, 2, 2],\n",
       "               [2, 2, 2, 2],\n",
       "               [2, 2, 2, 2],\n",
       "               [2, 2, 2, 2],\n",
       "               [2, 2, 2, 2],\n",
       "               [2, 2, 2, 2],\n",
       "               [2, 2, 2, 2],\n",
       "               [2, 2, 2, 2],\n",
       "               [2, 2, 2, 2],\n",
       "               [2, 2, 2, 2],\n",
       "               [2, 2, 2, 2],\n",
       "               [2, 2, 2, 2],\n",
       "               [2, 2, 2, 2],\n",
       "               [2, 2, 2, 2],\n",
       "               [2, 2, 2, 2],\n",
       "               [2, 2, 2, 2],\n",
       "               [2, 2, 2, 2],\n",
       "               [2, 2, 2, 2],\n",
       "               [2, 2, 2, 2],\n",
       "               [2, 2, 2, 2],\n",
       "               [2, 2, 2, 2],\n",
       "               [2, 2, 2, 2],\n",
       "               [2, 2, 2, 2],\n",
       "               [2, 2, 2, 2],\n",
       "               [2, 2, 2, 2],\n",
       "               [2, 2, 2, 2],\n",
       "               [2, 2, 2, 2],\n",
       "               [2, 2, 2, 2],\n",
       "               [2, 2, 2, 2],\n",
       "               [2, 2, 2, 2],\n",
       "               [2, 2, 2, 2],\n",
       "               [2, 2, 2, 2],\n",
       "               [2, 2, 2, 2],\n",
       "               [2, 2, 2, 2],\n",
       "               [2, 2, 2, 2],\n",
       "               [2, 2, 2, 2],\n",
       "               [2, 2, 2, 2]])])"
      ]
     },
     "execution_count": 46,
     "metadata": {},
     "output_type": "execute_result"
    }
   ],
   "source": [
    "s_ase = read(s)\n",
    "runner.run_oximachine(structure=s_ase)"
   ]
  },
  {
   "cell_type": "code",
   "execution_count": 34,
   "id": "c2e88beb",
   "metadata": {},
   "outputs": [],
   "source": [
    "mof = MOF.from_cif(s)"
   ]
  },
  {
   "cell_type": "code",
   "execution_count": 35,
   "id": "169d334a",
   "metadata": {},
   "outputs": [],
   "source": [
    "fragments = mof.fragment()"
   ]
  },
  {
   "cell_type": "code",
   "execution_count": 36,
   "id": "937ec097",
   "metadata": {},
   "outputs": [
    {
     "data": {
      "text/plain": [
       "FragmentationResult(nodes=SBUCollection({'C4 Cu2 O8': 24}), linkers=SBUCollection({'C9 H3 O6': 32}), bound_solvent=NonSbuMoleculeCollection({}), unbound_solvent=NonSbuMoleculeCollection({'H1': 1}), capping_molecules=SBUCollection({}), net_embedding=<moffragmentor.net.Net object at 0x7f212fe26a30>, has_1d_sbu=False)"
      ]
     },
     "execution_count": 36,
     "metadata": {},
     "output_type": "execute_result"
    }
   ],
   "source": [
    "fragments"
   ]
  }
 ],
 "metadata": {
  "kernelspec": {
   "display_name": "test_ta",
   "language": "python",
   "name": "python3"
  },
  "language_info": {
   "codemirror_mode": {
    "name": "ipython",
    "version": 3
   },
   "file_extension": ".py",
   "mimetype": "text/x-python",
   "name": "python",
   "nbconvert_exporter": "python",
   "pygments_lexer": "ipython3",
   "version": "3.8.16"
  },
  "vscode": {
   "interpreter": {
    "hash": "802b5f93707df5558c2d33773227ff727820fd09a655d5567663a0cee78ec025"
   }
  }
 },
 "nbformat": 4,
 "nbformat_minor": 5
}
