{
 "cells": [
  {
   "cell_type": "code",
   "execution_count": 1,
   "id": "f9bcc93d",
   "metadata": {},
   "outputs": [
    {
     "name": "stderr",
     "output_type": "stream",
     "text": [
      "/opt/anaconda3/envs/myproject/lib/python3.9/site-packages/pymatgen/core/__init__.py:49: UserWarning: Error loading .pmgrc.yaml: [Errno 2] No such file or directory: '/Users/beatrizmourino/.pmgrc.yaml'. You may need to reconfigure your yaml file.\n",
      "  warnings.warn(f\"Error loading .pmgrc.yaml: {ex}. You may need to reconfigure your yaml file.\")\n"
     ]
    }
   ],
   "source": [
    "from mofchecker import MOFChecker"
   ]
  },
  {
   "cell_type": "code",
   "execution_count": 4,
   "id": "26ad6f37",
   "metadata": {},
   "outputs": [],
   "source": [
    "#change here with the .cif file you wish to inspect\n",
    "mofchecker = MOFChecker.from_cif('/Users/beatrizmourino/Documents/epfl/projs/cofsc/CURATED-COFs-master/cifs/21291N3.cif')"
   ]
  },
  {
   "cell_type": "code",
   "execution_count": 5,
   "id": "169f5e22",
   "metadata": {},
   "outputs": [
    {
     "data": {
      "text/plain": [
       "'21291N3'"
      ]
     },
     "execution_count": 5,
     "metadata": {},
     "output_type": "execute_result"
    }
   ],
   "source": [
    "mofchecker.name"
   ]
  },
  {
   "cell_type": "code",
   "execution_count": 6,
   "id": "fcd7c392",
   "metadata": {},
   "outputs": [
    {
     "data": {
      "text/plain": [
       "'H108 C174 S12 N16'"
      ]
     },
     "execution_count": 6,
     "metadata": {},
     "output_type": "execute_result"
    }
   ],
   "source": [
    "mofchecker.formula"
   ]
  },
  {
   "cell_type": "code",
   "execution_count": 7,
   "id": "0d413ba6",
   "metadata": {},
   "outputs": [
    {
     "data": {
      "text/plain": [
       "0.3786562806086911"
      ]
     },
     "execution_count": 7,
     "metadata": {},
     "output_type": "execute_result"
    }
   ],
   "source": [
    "mofchecker.density"
   ]
  },
  {
   "cell_type": "code",
   "execution_count": 8,
   "id": "af665913",
   "metadata": {},
   "outputs": [
    {
     "data": {
      "text/plain": [
       "True"
      ]
     },
     "execution_count": 8,
     "metadata": {},
     "output_type": "execute_result"
    }
   ],
   "source": [
    "mofchecker.has_carbon"
   ]
  },
  {
   "cell_type": "code",
   "execution_count": 9,
   "id": "0df1563a",
   "metadata": {},
   "outputs": [
    {
     "data": {
      "text/plain": [
       "True"
      ]
     },
     "execution_count": 9,
     "metadata": {},
     "output_type": "execute_result"
    }
   ],
   "source": [
    "mofchecker.has_hydrogen"
   ]
  },
  {
   "cell_type": "code",
   "execution_count": 10,
   "id": "efc0d3e3",
   "metadata": {},
   "outputs": [
    {
     "data": {
      "text/plain": [
       "False"
      ]
     },
     "execution_count": 10,
     "metadata": {},
     "output_type": "execute_result"
    }
   ],
   "source": [
    "mofchecker.has_metal"
   ]
  },
  {
   "cell_type": "code",
   "execution_count": 11,
   "id": "a5e0aff0",
   "metadata": {},
   "outputs": [
    {
     "data": {
      "text/plain": [
       "False"
      ]
     },
     "execution_count": 11,
     "metadata": {},
     "output_type": "execute_result"
    }
   ],
   "source": [
    "mofchecker.has_overcoordinated_c"
   ]
  },
  {
   "cell_type": "code",
   "execution_count": 12,
   "id": "395aa2ba",
   "metadata": {},
   "outputs": [
    {
     "data": {
      "text/plain": [
       "False"
      ]
     },
     "execution_count": 12,
     "metadata": {},
     "output_type": "execute_result"
    }
   ],
   "source": [
    "mofchecker.has_overcoordinated_n"
   ]
  },
  {
   "cell_type": "code",
   "execution_count": 13,
   "id": "2a83774e",
   "metadata": {},
   "outputs": [
    {
     "data": {
      "text/plain": [
       "False"
      ]
     },
     "execution_count": 13,
     "metadata": {},
     "output_type": "execute_result"
    }
   ],
   "source": [
    "mofchecker.has_undercoordinated_rare_earth"
   ]
  },
  {
   "cell_type": "code",
   "execution_count": 14,
   "id": "625ed923",
   "metadata": {},
   "outputs": [
    {
     "data": {
      "text/plain": [
       "False"
      ]
     },
     "execution_count": 14,
     "metadata": {},
     "output_type": "execute_result"
    }
   ],
   "source": [
    "mofchecker.has_undercoordinated_c"
   ]
  },
  {
   "cell_type": "code",
   "execution_count": 15,
   "id": "a85a2bd4",
   "metadata": {},
   "outputs": [
    {
     "data": {
      "text/plain": [
       "True"
      ]
     },
     "execution_count": 15,
     "metadata": {},
     "output_type": "execute_result"
    }
   ],
   "source": [
    "mofchecker.has_undercoordinated_n"
   ]
  },
  {
   "cell_type": "code",
   "execution_count": 16,
   "id": "f03ca628",
   "metadata": {},
   "outputs": [],
   "source": [
    "#if one of the under/overcoordinated tests returned true, uncomment this line and change accordingly\n",
    "#mofchecker.undercoordinated_n_indices"
   ]
  },
  {
   "cell_type": "code",
   "execution_count": 17,
   "id": "bee8b32a",
   "metadata": {},
   "outputs": [
    {
     "data": {
      "text/plain": [
       "[290, 291, 292, 293]"
      ]
     },
     "execution_count": 17,
     "metadata": {},
     "output_type": "execute_result"
    }
   ],
   "source": [
    "mofchecker.undercoordinated_n_indices"
   ]
  },
  {
   "cell_type": "code",
   "execution_count": 18,
   "id": "e409c446",
   "metadata": {},
   "outputs": [],
   "source": [
    "#mofchecker.overvalent_c_indices"
   ]
  },
  {
   "cell_type": "code",
   "execution_count": 19,
   "id": "d9a030bd",
   "metadata": {},
   "outputs": [],
   "source": [
    "#if one of the under/overcoordinated tests returned true, uncomment this line and specify structure from previous line\n",
    "#mofchecker.structure[100]"
   ]
  },
  {
   "cell_type": "code",
   "execution_count": 20,
   "id": "6fde5ef3",
   "metadata": {},
   "outputs": [
    {
     "data": {
      "text/plain": [
       "False"
      ]
     },
     "execution_count": 20,
     "metadata": {},
     "output_type": "execute_result"
    }
   ],
   "source": [
    "mofchecker.has_lone_molecule"
   ]
  },
  {
   "cell_type": "code",
   "execution_count": 21,
   "id": "b065dc73",
   "metadata": {},
   "outputs": [],
   "source": [
    "#uncomment this line if has_lone_molecule returned true\n",
    "#mofchecker.lone_molecule_indices"
   ]
  },
  {
   "cell_type": "code",
   "execution_count": 22,
   "id": "02a20ccf",
   "metadata": {},
   "outputs": [],
   "source": [
    "#uncomment this line if has_lone_molecule returned true and specify structure from previous line\n",
    "#mofchecker.structure[140]"
   ]
  },
  {
   "cell_type": "code",
   "execution_count": 23,
   "id": "51e5e2b9",
   "metadata": {},
   "outputs": [
    {
     "data": {
      "text/plain": [
       "False"
      ]
     },
     "execution_count": 23,
     "metadata": {},
     "output_type": "execute_result"
    }
   ],
   "source": [
    "mofchecker.has_suspicicious_terminal_oxo"
   ]
  },
  {
   "cell_type": "code",
   "execution_count": 24,
   "id": "81bed7a9",
   "metadata": {},
   "outputs": [
    {
     "data": {
      "text/plain": [
       "True"
      ]
     },
     "execution_count": 24,
     "metadata": {},
     "output_type": "execute_result"
    }
   ],
   "source": [
    "mofchecker.has_atomic_overlaps"
   ]
  },
  {
   "cell_type": "code",
   "execution_count": 25,
   "id": "602091f9",
   "metadata": {},
   "outputs": [
    {
     "data": {
      "text/plain": [
       "[]"
      ]
     },
     "execution_count": 25,
     "metadata": {},
     "output_type": "execute_result"
    }
   ],
   "source": [
    "mofchecker.get_overlapping_indices()"
   ]
  },
  {
   "cell_type": "code",
   "execution_count": null,
   "id": "8a9a64e3",
   "metadata": {},
   "outputs": [],
   "source": []
  }
 ],
 "metadata": {
  "interpreter": {
   "hash": "f850ce2894aca90224ce38dfa3ce94504c820d1e92718606977159aec9b8062c"
  },
  "kernelspec": {
   "display_name": "Python 3.9.10 ('myproject')",
   "language": "python",
   "name": "python3"
  },
  "language_info": {
   "codemirror_mode": {
    "name": "ipython",
    "version": 3
   },
   "file_extension": ".py",
   "mimetype": "text/x-python",
   "name": "python",
   "nbconvert_exporter": "python",
   "pygments_lexer": "ipython3",
   "version": "3.9.10"
  }
 },
 "nbformat": 4,
 "nbformat_minor": 5
}
