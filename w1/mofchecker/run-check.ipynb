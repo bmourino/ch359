{
 "cells": [
  {
   "cell_type": "code",
   "execution_count": 1,
   "id": "f9bcc93d",
   "metadata": {},
   "outputs": [],
   "source": [
    "from mofchecker import MOFChecker\n"
   ]
  },
  {
   "cell_type": "code",
   "execution_count": 2,
   "id": "26ad6f37",
   "metadata": {},
   "outputs": [],
   "source": [
    "mofchecker = MOFChecker.from_cif('/Users/beatrizmourino/Documents/epfl/projs/cofsc/CURATED-COFs-master/cifs/21291N3.cif')"
   ]
  },
  {
   "cell_type": "code",
   "execution_count": 3,
   "id": "169f5e22",
   "metadata": {},
   "outputs": [
    {
     "name": "stderr",
     "output_type": "stream",
     "text": [
      "/opt/anaconda3/envs/test_ta/lib/python3.11/site-packages/mofchecker/checks/charge_check.py:38: UserWarning: Install the eqeq extra to run the charge check\n",
      "  warnings.warn(\"Install the eqeq extra to run the charge check\")\n",
      "/opt/anaconda3/envs/test_ta/lib/python3.11/site-packages/mofchecker/checks/zeopp.py:101: UserWarning: Did not find the zeo++ network binary in the path.             Can not run pore analysis.\n",
      "  warnings.warn(NO_ZEOPP_WARNING)\n"
     ]
    },
    {
     "data": {
      "text/plain": [
       "OrderedDict([('name', '21291N3'),\n",
       "             ('graph_hash', '3f4e9e8a619dcda3c28aea7943134404'),\n",
       "             ('scaffold_hash', 'acab1f186e1851907d682d2a5e475091'),\n",
       "             ('symmetry_hash',\n",
       "              'OdpP0/xI92eU3l/TcBXz4ivwgzEkzMOMrIpfsnPdi+A=65'),\n",
       "             ('formula', 'H108 C174 S12 N16'),\n",
       "             ('path',\n",
       "              '/Users/beatrizmourino/Documents/epfl/projs/cofsc/CURATED-COFs-master/cifs/21291N3.cif'),\n",
       "             ('density', 0.3786562806086911),\n",
       "             ('has_carbon', True),\n",
       "             ('has_hydrogen', True),\n",
       "             ('has_atomic_overlaps', True),\n",
       "             ('has_overcoordinated_c', False),\n",
       "             ('has_overcoordinated_n', False),\n",
       "             ('has_overcoordinated_h', False),\n",
       "             ('has_undercoordinated_c', False),\n",
       "             ('has_undercoordinated_n', True),\n",
       "             ('has_undercoordinated_rare_earth', False),\n",
       "             ('has_metal', False),\n",
       "             ('has_lone_molecule', False),\n",
       "             ('has_high_charges', True),\n",
       "             ('is_porous', None),\n",
       "             ('has_suspicicious_terminal_oxo', False)])"
      ]
     },
     "execution_count": 3,
     "metadata": {},
     "output_type": "execute_result"
    }
   ],
   "source": [
    "mofchecker.get_mof_descriptors()"
   ]
  },
  {
   "cell_type": "code",
   "execution_count": 6,
   "id": "8a9a64e3",
   "metadata": {},
   "outputs": [
    {
     "data": {
      "text/plain": [
       "[array([ -4.58230859,  -9.22607491, -13.14535   ]),\n",
       " array([ -0.67884141, -35.28082509, -13.14535   ]),\n",
       " array([ -5.93999141,  -9.22607491, -13.14535   ]),\n",
       " array([  0.67884141, -35.28082509, -13.14535   ])]"
      ]
     },
     "execution_count": 6,
     "metadata": {},
     "output_type": "execute_result"
    }
   ],
   "source": [
    "mofchecker.undercoordinated_n_candidate_positions"
   ]
  },
  {
   "cell_type": "code",
   "execution_count": null,
   "id": "c2e88beb",
   "metadata": {},
   "outputs": [],
   "source": []
  }
 ],
 "metadata": {
  "kernelspec": {
   "display_name": "test_ta",
   "language": "python",
   "name": "python3"
  },
  "language_info": {
   "codemirror_mode": {
    "name": "ipython",
    "version": 3
   },
   "file_extension": ".py",
   "mimetype": "text/x-python",
   "name": "python",
   "nbconvert_exporter": "python",
   "pygments_lexer": "ipython3",
   "version": "3.11.0"
  },
  "vscode": {
   "interpreter": {
    "hash": "17e4e66a3ecfaaddb7f1bdfd3004e56239928f4fc259d788513bd8bbff924cc3"
   }
  }
 },
 "nbformat": 4,
 "nbformat_minor": 5
}
