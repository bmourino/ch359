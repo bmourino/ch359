{
 "cells": [
  {
   "cell_type": "code",
   "execution_count": 1,
   "metadata": {},
   "outputs": [],
   "source": [
    "from plot_utils import plot_pdos, get_pdosdat_paths"
   ]
  },
  {
   "cell_type": "code",
   "execution_count": 2,
   "metadata": {},
   "outputs": [],
   "source": [
    "pbepdospath = # '/place/your/pwd/complete/path/here' # p.s. don't add a trailing slash\n",
    "# pbe0pdospath = # complete if you want to plot pbe vs pbe0 \n",
    "natoms = # complete\n",
    "label = # complete with the name of your MOF, or however you want to label the plot\n",
    "output_path = # complete with the path where you want to save the plot"
   ]
  },
  {
   "cell_type": "code",
   "execution_count": null,
   "metadata": {},
   "outputs": [],
   "source": [
    "pdosfiles = get_pdosdat_paths(pdospathpbe=pbepdospath, natoms=natoms) # you can add pdospathpbe0=pbe0pdospath if you want to plot pbe vs pbe0"
   ]
  },
  {
   "cell_type": "code",
   "execution_count": null,
   "metadata": {},
   "outputs": [],
   "source": [
    "plot_pdos(pdosfiles, label, output_path)"
   ]
  },
  {
   "cell_type": "code",
   "execution_count": null,
   "metadata": {},
   "outputs": [],
   "source": []
  }
 ],
 "metadata": {
  "kernelspec": {
   "display_name": "ch359",
   "language": "python",
   "name": "python3"
  },
  "language_info": {
   "codemirror_mode": {
    "name": "ipython",
    "version": 3
   },
   "file_extension": ".py",
   "mimetype": "text/x-python",
   "name": "python",
   "nbconvert_exporter": "python",
   "pygments_lexer": "ipython3",
   "version": "3.8.16"
  },
  "orig_nbformat": 4,
  "vscode": {
   "interpreter": {
    "hash": "cafa4febb4531d3746783e3a69594e4babbec66c67dec25d40ad177d34b08658"
   }
  }
 },
 "nbformat": 4,
 "nbformat_minor": 2
}
